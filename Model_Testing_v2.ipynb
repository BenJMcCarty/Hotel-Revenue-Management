{
 "cells": [
  {
   "cell_type": "markdown",
   "metadata": {},
   "source": [
    "# Hospitality Heuristics: Reviewing Revenues"
   ]
  },
  {
   "cell_type": "markdown",
   "metadata": {},
   "source": [
    "---\n",
    "\n",
    "- Data: hotel datasets from capstone\n",
    "- Goal: Design/develop on-demand report generation for common metrics\n",
    "- Breakdown:\n",
    "    - Calculate daily revenue(s)\n",
    "    - Calculate daily occupancy\n",
    "        - By room type\n",
    "        - By rate segmentation\n",
    "        - By rate amount (e.g., quartiles, etc.)\n",
    "\n",
    "---"
   ]
  },
  {
   "cell_type": "markdown",
   "metadata": {},
   "source": [
    "# Package Imports"
   ]
  },
  {
   "cell_type": "code",
   "execution_count": null,
   "metadata": {},
   "outputs": [],
   "source": [
    "import datetime as dt\n",
    "import matplotlib.pyplot as plt\n",
    "import numpy as np\n",
    "import pandas as pd\n",
    "\n",
    "from imblearn.combine import SMOTEENN, SMOTETomek\n",
    "from imblearn.ensemble import BalancedRandomForestClassifier\n",
    "from imblearn.over_sampling import SMOTE\n",
    "\n",
    "import seaborn as sns\n",
    "\n",
    "import shap\n",
    "\n",
    "from sklearn.ensemble import HistGradientBoostingClassifier, RandomForestClassifier\n",
    "from sklearn.inspection import permutation_importance\n",
    "from sklearn.metrics import accuracy_score, classification_report, ConfusionMatrixDisplay\n",
    "from sklearn.model_selection import train_test_split\n",
    "\n",
    "import xgboost as xgb\n",
    "\n",
    "pd.set_option('display.max_columns', 100)\n",
    "pd.set_option('display.float_format', lambda x: f'{x:,.2f}')\n",
    "pd.set_option('display.max_rows', 100)\n",
    "\n",
    "%matplotlib inline"
   ]
  },
  {
   "cell_type": "markdown",
   "metadata": {},
   "source": [
    "# Reading Datasets"
   ]
  },
  {
   "cell_type": "markdown",
   "metadata": {},
   "source": [
    "* Need to import data separately\n",
    "* Add unique identifier for each (IsCity?)\n",
    "* Concatenate into single dataframe"
   ]
  },
  {
   "cell_type": "code",
   "execution_count": null,
   "metadata": {},
   "outputs": [],
   "source": [
    "data_path_resort = './data/Resort_Data.xlsx'\n",
    "data_path_city = './data/City_Data.xlsx'"
   ]
  },
  {
   "cell_type": "code",
   "execution_count": null,
   "metadata": {},
   "outputs": [],
   "source": [
    "resort_df = pd.read_excel(data_path_resort)\n",
    "resort_df['IsResort'] = 1\n",
    "# resort_df\n",
    "\n",
    "city_df = pd.read_excel(data_path_city)\n",
    "city_df['IsResort'] = 0\n",
    "# city_df\n",
    "\n",
    "full_data = pd.concat([resort_df, city_df], axis = 0)\n",
    "full_data"
   ]
  },
  {
   "cell_type": "markdown",
   "metadata": {},
   "source": [
    "# Review Full Dataset"
   ]
  },
  {
   "cell_type": "markdown",
   "metadata": {},
   "source": [
    "**What will I reliably know?**\n",
    "\n",
    "* Need to filter for features guaranteed to be on reservations\n",
    "* Could build other features using other models (e.g., regression/classifications)"
   ]
  },
  {
   "cell_type": "code",
   "execution_count": null,
   "metadata": {},
   "outputs": [],
   "source": [
    "full_data.info()"
   ]
  },
  {
   "cell_type": "markdown",
   "metadata": {},
   "source": [
    "## Feature Engineering"
   ]
  },
  {
   "cell_type": "markdown",
   "metadata": {},
   "source": [
    "\n",
    "Some features are good as-is, while others have options for feature engineering\n",
    "\n",
    "simple_features: 'LeadTime', 'ArrivalDateWeekNumber', 'ArrivalDateDayOfMonth', 'StaysInWeekNights',\n",
    "                   'StaysInWeekendNights','ADR', 'CustomerType','MarketSegment', 'ReservedRoomType',\n",
    "                   'IsRepeatedGuest', 'PreviousCancellations', 'PreviousBookingsNotCanceled',\n",
    "                   'BookingChanges', 'TotalOfSpecialRequests', 'IsResort'\n",
    "\n",
    "dow_arrival: 'ArrivalDateYear', 'ArrivalDateMonth', 'ArrivalDateDayOfMonth'\n",
    "\n",
    "dow_departure: 'ArrivalDateYear', 'ArrivalDateMonth', 'ArrivalDateDayOfMonth', 'StaysInWeekNights',\n",
    "                   'StaysInWeekendNights'"
   ]
  },
  {
   "cell_type": "code",
   "execution_count": null,
   "metadata": {},
   "outputs": [],
   "source": [
    "# full_data['StaysInWeekNights'].value_counts(ascending = False, normalize = True, dropna = False)\n",
    "full_data['StaysInWeekNights'].describe()"
   ]
  },
  {
   "cell_type": "code",
   "execution_count": null,
   "metadata": {},
   "outputs": [],
   "source": [
    "full_data[(full_data['StaysInWeekNights'] + full_data['StaysInWeekendNights']) == 0]['IsCanceled'].describe()"
   ]
  },
  {
   "cell_type": "code",
   "execution_count": null,
   "metadata": {},
   "outputs": [],
   "source": [
    "full_data['ADR'].describe()"
   ]
  },
  {
   "cell_type": "code",
   "execution_count": null,
   "metadata": {},
   "outputs": [],
   "source": [
    "# full_data[full_data['ADR'] != 0]['IsCanceled'].describe()\n",
    "full_data[full_data['ADR'] != 0]['IsCanceled'].value_counts(normalize= True)"
   ]
  },
  {
   "cell_type": "markdown",
   "metadata": {},
   "source": [
    "# Feature Notes"
   ]
  },
  {
   "cell_type": "markdown",
   "metadata": {},
   "source": [
    "* ADR, StaysInWeek/endNights features are too strongly indicative of whether or not a reservation is cancelled.\n",
    "* Remove these features for now; may be useful in later modeling"
   ]
  },
  {
   "cell_type": "code",
   "execution_count": null,
   "metadata": {},
   "outputs": [],
   "source": [
    "# full_data[dow_arrival]"
   ]
  },
  {
   "cell_type": "code",
   "execution_count": null,
   "metadata": {},
   "outputs": [],
   "source": [
    "full_data['ArrivalDayofWeek'] = (pd.to_datetime(full_data['ArrivalDateYear'].astype(str)\n",
    "                                             + \"-\" + full_data['ArrivalDateMonth']\n",
    "                                             + \"-\" + full_data['ArrivalDateDayOfMonth']\n",
    "                                             .astype(str))\n",
    "                               .dt.dayofweek)\n",
    "full_data['ArrivalDayofWeek']"
   ]
  },
  {
   "cell_type": "code",
   "execution_count": null,
   "metadata": {},
   "outputs": [],
   "source": [
    "full_data.head()"
   ]
  },
  {
   "cell_type": "markdown",
   "metadata": {},
   "source": [
    "# Selecting Features"
   ]
  },
  {
   "cell_type": "markdown",
   "metadata": {},
   "source": [
    "I want to select a subset of reservation features that are independent of any temporal impact.\n",
    "\n",
    "Several features (e.g., BookingChanges) will be too variable depending on the age of the reservation. I want to understand the likelihood of a cancellation separate from any variable features."
   ]
  },
  {
   "cell_type": "code",
   "execution_count": null,
   "metadata": {},
   "outputs": [],
   "source": [
    "selected_features = ['LeadTime', 'ArrivalDateWeekNumber', 'ArrivalDateDayOfMonth', 'ArrivalDayofWeek',\n",
    "                     'ADR', 'CustomerType', 'MarketSegment', 'ReservedRoomType',\n",
    "                     'IsRepeatedGuest', 'PreviousCancellations', 'PreviousBookingsNotCanceled',\n",
    "                     'TotalOfSpecialRequests', 'IsResort']\n",
    "\n",
    "selected_features"
   ]
  },
  {
   "cell_type": "code",
   "execution_count": null,
   "metadata": {},
   "outputs": [],
   "source": [
    "data_subset = full_data[['IsCanceled', *selected_features]]\n",
    "data_subset"
   ]
  },
  {
   "cell_type": "code",
   "execution_count": null,
   "metadata": {},
   "outputs": [],
   "source": [
    "data_subset.info()"
   ]
  },
  {
   "cell_type": "code",
   "execution_count": null,
   "metadata": {},
   "outputs": [],
   "source": [
    "data_subset.describe(include = \"number\")"
   ]
  },
  {
   "cell_type": "code",
   "execution_count": null,
   "metadata": {},
   "outputs": [],
   "source": [
    "data_subset.describe(exclude = \"number\")"
   ]
  },
  {
   "cell_type": "markdown",
   "metadata": {},
   "source": [
    "# Starting Modeling"
   ]
  },
  {
   "cell_type": "code",
   "execution_count": null,
   "metadata": {},
   "outputs": [],
   "source": [
    "def classy_report(model, X_train, y_train, X_test, y_test):\n",
    "    \n",
    "    # Train the model\n",
    "    model.fit(X_train, y_train)\n",
    "\n",
    "    # Make predictions\n",
    "    y_pred = model.predict(X_test)\n",
    "\n",
    "    # Evaluate the model\n",
    "    print(\"\\n\\n\",classification_report(y_test, y_pred),\"\\n\\n\")\n",
    "    ConfusionMatrixDisplay.from_predictions(y_test, y_pred, cmap = 'Blues', normalize = \"true\")"
   ]
  },
  {
   "cell_type": "markdown",
   "metadata": {},
   "source": [
    "## Train-Test Split"
   ]
  },
  {
   "cell_type": "code",
   "execution_count": null,
   "metadata": {},
   "outputs": [],
   "source": [
    "target = 'IsCanceled'\n",
    "\n",
    "# Assuming 'df' is your DataFrame\n",
    "X = data_subset.drop(columns = [target]).select_dtypes('number')\n",
    "y = data_subset[target]   # Target variable"
   ]
  },
  {
   "cell_type": "code",
   "execution_count": null,
   "metadata": {},
   "outputs": [],
   "source": [
    "X.info()"
   ]
  },
  {
   "cell_type": "code",
   "execution_count": null,
   "metadata": {},
   "outputs": [],
   "source": [
    "y.info()"
   ]
  },
  {
   "cell_type": "code",
   "execution_count": null,
   "metadata": {},
   "outputs": [],
   "source": [
    "# Splitting the dataset into training and testing sets\n",
    "X_train, X_test, y_train, y_test = train_test_split(X, y, test_size=0.25, random_state=42, stratify=y)"
   ]
  },
  {
   "cell_type": "markdown",
   "metadata": {},
   "source": [
    "## XGBoost"
   ]
  },
  {
   "cell_type": "code",
   "execution_count": null,
   "metadata": {},
   "outputs": [],
   "source": [
    "# Instantiate an XGBoost classifier\n",
    "model = xgb.XGBClassifier(eval_metric='logloss')\n",
    "\n",
    "## Generate predictions and classification reports\n",
    "classy_report(model, X_train, y_train, X_test, y_test)"
   ]
  },
  {
   "cell_type": "markdown",
   "metadata": {},
   "source": [
    "## HistGradientBoostingClassifier"
   ]
  },
  {
   "cell_type": "code",
   "execution_count": null,
   "metadata": {},
   "outputs": [],
   "source": [
    "# Instantiate the classifier\n",
    "classifier = HistGradientBoostingClassifier()\n",
    "\n",
    "## Generate predictions and classification reports\n",
    "classy_report(classifier, X_train, y_train, X_test, y_test)"
   ]
  },
  {
   "cell_type": "markdown",
   "metadata": {},
   "source": [
    "# Imbalanced-Learn"
   ]
  },
  {
   "cell_type": "code",
   "execution_count": null,
   "metadata": {},
   "outputs": [],
   "source": [
    "# Create the classifier\n",
    "brf_classifier = BalancedRandomForestClassifier(random_state=42)\n",
    "\n",
    "## Generate predictions and classification reports\n",
    "classy_report(brf_classifier, X_train, y_train, X_test, y_test)"
   ]
  },
  {
   "cell_type": "code",
   "execution_count": null,
   "metadata": {},
   "outputs": [],
   "source": [
    "# Applying SMOTE to generate synthetic samples for the minority class\n",
    "# smote = SMOTE(random_state=42)\n",
    "# X_resampled, y_resampled = smote.fit_resample(X_train, y_train)\n",
    "\n",
    "# smote_enn = SMOTETomek(random_state=42)\n",
    "# X_resampled, y_resampled = smote_enn.fit_resample(X, y)\n"
   ]
  },
  {
   "cell_type": "markdown",
   "metadata": {},
   "source": [
    "## RandomForestClassifier"
   ]
  },
  {
   "cell_type": "code",
   "execution_count": null,
   "metadata": {},
   "outputs": [],
   "source": [
    "# Create a classifier\n",
    "rfc_imb = RandomForestClassifier(random_state=42, n_jobs=-1)\n",
    "\n",
    "## Generate predictions and classification reports\n",
    "classy_report(rfc_imb, X_train, y_train, X_test, y_test)"
   ]
  },
  {
   "cell_type": "code",
   "execution_count": null,
   "metadata": {},
   "outputs": [],
   "source": [
    "# Create a classifier\n",
    "rfc_bal = RandomForestClassifier(random_state=42, n_jobs=-1, class_weight='balanced')\n",
    "\n",
    "## Generate predictions and classification reports\n",
    "classy_report(rfc_bal, X_train, y_train, X_test, y_test)"
   ]
  },
  {
   "cell_type": "markdown",
   "metadata": {},
   "source": [
    "## SMOTE-ing"
   ]
  },
  {
   "cell_type": "code",
   "execution_count": null,
   "metadata": {},
   "outputs": [],
   "source": [
    "## Applying SMOTE to generate synthetic samples for the minority class\n",
    "smote = SMOTE(random_state=42)\n",
    "X_resampled, y_resampled = smote.fit_resample(X_train, y_train)"
   ]
  },
  {
   "cell_type": "code",
   "execution_count": null,
   "metadata": {},
   "outputs": [],
   "source": [
    "# Create a classifier\n",
    "rfc_imb = RandomForestClassifier(random_state=42, n_jobs=-1)\n",
    "\n",
    "## Generate predictions and classification reports\n",
    "classy_report(rfc_imb, X_resampled, y_resampled, X_test, y_test)"
   ]
  },
  {
   "cell_type": "code",
   "execution_count": null,
   "metadata": {},
   "outputs": [],
   "source": [
    "# Create a classifier\n",
    "rfc_bal = RandomForestClassifier(random_state=42, n_jobs=-1, class_weight='balanced')\n",
    "\n",
    "## Generate predictions and classification reports\n",
    "classy_report(rfc_imb, X_resampled, y_resampled, X_test, y_test)"
   ]
  },
  {
   "cell_type": "code",
   "execution_count": null,
   "metadata": {},
   "outputs": [],
   "source": [
    "## Testing alternate SMOTE - SMOTEENN\n",
    "smote_enn = SMOTEENN(random_state=42)\n",
    "X_resampled, y_resampled = smote_enn.fit_resample(X, y)\n",
    "\n",
    "# Create a classifier\n",
    "rfc_imb = RandomForestClassifier(random_state=42, n_jobs=-1)\n",
    "\n",
    "## Generate predictions and classification reports\n",
    "classy_report(rfc_imb, X_resampled, y_resampled, X_test, y_test)"
   ]
  },
  {
   "cell_type": "code",
   "execution_count": null,
   "metadata": {},
   "outputs": [],
   "source": [
    "## Testing alternate SMOTE - SMOTETomek\n",
    "smote_tomek = SMOTETomek(random_state=42)\n",
    "X_resampled, y_resampled = smote_tomek.fit_resample(X, y)\n",
    "\n",
    "# Create a classifier\n",
    "rfc_tomek = RandomForestClassifier(random_state=42, n_jobs=-1)\n",
    "\n",
    "## Generate predictions and classification reports\n",
    "classy_report(rfc_tomek, X_resampled, y_resampled, X_test, y_test)"
   ]
  },
  {
   "cell_type": "code",
   "execution_count": null,
   "metadata": {},
   "outputs": [],
   "source": [
    "# Calculate permutation importance\n",
    "result = permutation_importance(rfc_tomek, X_test, y_test, n_repeats=10, random_state=42, n_jobs=-1)\n",
    "\n",
    "# Get importances and feature names\n",
    "importances = result.importances_mean\n",
    "feature_names = X_test.columns"
   ]
  },
  {
   "cell_type": "code",
   "execution_count": null,
   "metadata": {},
   "outputs": [],
   "source": [
    "# Sort the feature importances in descending order and select the top 5\n",
    "indices = np.argsort(importances)[::-1]\n",
    "top_indices = indices[:10]\n",
    "\n",
    "# Create a horizontal bar plot\n",
    "plt.figure(figsize=(10, 5))\n",
    "plt.title(\"Top 5 Permutation Importances\")\n",
    "plt.barh(range(len(top_indices)), importances[top_indices], color='blue', align='center')\n",
    "plt.yticks(range(len(top_indices)), [feature_names[i] for i in top_indices])\n",
    "plt.gca().invert_yaxis()  # Invert y-axis to have the highest value on top\n",
    "plt.xlabel(\"Mean Decrease in Accuracy\")\n",
    "plt.ylabel(\"Feature\")\n",
    "plt.show()"
   ]
  },
  {
   "cell_type": "code",
   "execution_count": null,
   "metadata": {},
   "outputs": [],
   "source": [
    "# # Create a SHAP TreeExplainer and compute SHAP values\n",
    "# explainer = shap.TreeExplainer(rfc_tomek)\n",
    "# shap_values = explainer.shap_values(X_test)\n",
    "\n",
    "# # Generate a violin plot for the first class predictions (for binary classification)\n",
    "# shap.summary_plot(shap_values[1], X_test, plot_type=\"violin\")"
   ]
  },
  {
   "cell_type": "code",
   "execution_count": null,
   "metadata": {},
   "outputs": [],
   "source": [
    "# Select a random subset of data for SHAP analysis\n",
    "subset = X_resampled.sample(n=1000, random_state=42)  # Adjust n based on your dataset size\n",
    "\n",
    "# Create a SHAP explainer\n",
    "explainer = shap.Explainer(rfc_tomek, X_resampled, n_jobs=-1)\n",
    "\n",
    "# Compute SHAP values\n",
    "shap_values = explainer(X_resampled)\n",
    "\n",
    "# Generate a violin plot\n",
    "shap.plots.violin(shap_values)"
   ]
  },
  {
   "cell_type": "code",
   "execution_count": null,
   "metadata": {},
   "outputs": [],
   "source": [
    "city_df['LeadTime'].describe()"
   ]
  },
  {
   "cell_type": "code",
   "execution_count": null,
   "metadata": {},
   "outputs": [],
   "source": [
    "city_df['LeadTime']"
   ]
  },
  {
   "cell_type": "code",
   "execution_count": null,
   "metadata": {},
   "outputs": [],
   "source": [
    "sns.regplot(x = city_df['LeadTime'], y = city_df['IsCanceled'])"
   ]
  },
  {
   "cell_type": "code",
   "execution_count": null,
   "metadata": {},
   "outputs": [],
   "source": []
  }
 ],
 "metadata": {
  "kernelspec": {
   "display_name": "Python (dojo-env)",
   "language": "python",
   "name": "dojo-env"
  },
  "language_info": {
   "codemirror_mode": {
    "name": "ipython",
    "version": 3
   },
   "file_extension": ".py",
   "mimetype": "text/x-python",
   "name": "python",
   "nbconvert_exporter": "python",
   "pygments_lexer": "ipython3",
   "version": "3.10.10"
  }
 },
 "nbformat": 4,
 "nbformat_minor": 2
}
